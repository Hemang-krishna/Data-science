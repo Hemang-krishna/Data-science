{
 "cells": [
  {
   "cell_type": "code",
   "execution_count": 20,
   "id": "ff973cd2",
   "metadata": {},
   "outputs": [],
   "source": [
    "from scipy import stats\n",
    "import pandas as pd\n",
    "import numpy as np"
   ]
  },
  {
   "cell_type": "code",
   "execution_count": 21,
   "id": "8948db4b",
   "metadata": {},
   "outputs": [
    {
     "data": {
      "text/html": [
       "<div>\n",
       "<style scoped>\n",
       "    .dataframe tbody tr th:only-of-type {\n",
       "        vertical-align: middle;\n",
       "    }\n",
       "\n",
       "    .dataframe tbody tr th {\n",
       "        vertical-align: top;\n",
       "    }\n",
       "\n",
       "    .dataframe thead th {\n",
       "        text-align: right;\n",
       "    }\n",
       "</style>\n",
       "<table border=\"1\" class=\"dataframe\">\n",
       "  <thead>\n",
       "    <tr style=\"text-align: right;\">\n",
       "      <th></th>\n",
       "      <th>Date</th>\n",
       "      <th>Open</th>\n",
       "      <th>High</th>\n",
       "      <th>Low</th>\n",
       "      <th>Last</th>\n",
       "      <th>Close</th>\n",
       "      <th>Total Trade Quantity</th>\n",
       "      <th>Turnover (Lacs)</th>\n",
       "    </tr>\n",
       "  </thead>\n",
       "  <tbody>\n",
       "    <tr>\n",
       "      <th>0</th>\n",
       "      <td>2010-01-04</td>\n",
       "      <td>1613.00</td>\n",
       "      <td>1629.10</td>\n",
       "      <td>1602.00</td>\n",
       "      <td>1629.0</td>\n",
       "      <td>1625.65</td>\n",
       "      <td>9365.0</td>\n",
       "      <td>151.74</td>\n",
       "    </tr>\n",
       "    <tr>\n",
       "      <th>1</th>\n",
       "      <td>2010-01-05</td>\n",
       "      <td>1639.95</td>\n",
       "      <td>1639.95</td>\n",
       "      <td>1611.05</td>\n",
       "      <td>1620.0</td>\n",
       "      <td>1616.80</td>\n",
       "      <td>38148.0</td>\n",
       "      <td>622.58</td>\n",
       "    </tr>\n",
       "    <tr>\n",
       "      <th>2</th>\n",
       "      <td>2010-01-06</td>\n",
       "      <td>1618.00</td>\n",
       "      <td>1644.00</td>\n",
       "      <td>1617.00</td>\n",
       "      <td>1639.0</td>\n",
       "      <td>1638.50</td>\n",
       "      <td>36519.0</td>\n",
       "      <td>595.09</td>\n",
       "    </tr>\n",
       "    <tr>\n",
       "      <th>3</th>\n",
       "      <td>2010-01-07</td>\n",
       "      <td>1645.00</td>\n",
       "      <td>1654.00</td>\n",
       "      <td>1636.00</td>\n",
       "      <td>1648.0</td>\n",
       "      <td>1648.70</td>\n",
       "      <td>12809.0</td>\n",
       "      <td>211.00</td>\n",
       "    </tr>\n",
       "    <tr>\n",
       "      <th>4</th>\n",
       "      <td>2010-01-08</td>\n",
       "      <td>1650.00</td>\n",
       "      <td>1650.00</td>\n",
       "      <td>1626.55</td>\n",
       "      <td>1640.0</td>\n",
       "      <td>1639.80</td>\n",
       "      <td>28035.0</td>\n",
       "      <td>459.11</td>\n",
       "    </tr>\n",
       "  </tbody>\n",
       "</table>\n",
       "</div>"
      ],
      "text/plain": [
       "         Date     Open     High      Low    Last    Close  \\\n",
       "0  2010-01-04  1613.00  1629.10  1602.00  1629.0  1625.65   \n",
       "1  2010-01-05  1639.95  1639.95  1611.05  1620.0  1616.80   \n",
       "2  2010-01-06  1618.00  1644.00  1617.00  1639.0  1638.50   \n",
       "3  2010-01-07  1645.00  1654.00  1636.00  1648.0  1648.70   \n",
       "4  2010-01-08  1650.00  1650.00  1626.55  1640.0  1639.80   \n",
       "\n",
       "   Total Trade Quantity  Turnover (Lacs)  \n",
       "0                9365.0           151.74  \n",
       "1               38148.0           622.58  \n",
       "2               36519.0           595.09  \n",
       "3               12809.0           211.00  \n",
       "4               28035.0           459.11  "
      ]
     },
     "execution_count": 21,
     "metadata": {},
     "output_type": "execute_result"
    }
   ],
   "source": [
    "file_glaxo = \"C:/Users/admin/Desktop/GLAXO.csv\"\n",
    "glaxo = pd.read_csv(file_glaxo)\n",
    "glaxo.head()"
   ]
  },
  {
   "cell_type": "code",
   "execution_count": 22,
   "id": "7892fed7",
   "metadata": {},
   "outputs": [
    {
     "data": {
      "text/html": [
       "<div>\n",
       "<style scoped>\n",
       "    .dataframe tbody tr th:only-of-type {\n",
       "        vertical-align: middle;\n",
       "    }\n",
       "\n",
       "    .dataframe tbody tr th {\n",
       "        vertical-align: top;\n",
       "    }\n",
       "\n",
       "    .dataframe thead th {\n",
       "        text-align: right;\n",
       "    }\n",
       "</style>\n",
       "<table border=\"1\" class=\"dataframe\">\n",
       "  <thead>\n",
       "    <tr style=\"text-align: right;\">\n",
       "      <th></th>\n",
       "      <th>Date</th>\n",
       "      <th>Open</th>\n",
       "      <th>High</th>\n",
       "      <th>Low</th>\n",
       "      <th>Last</th>\n",
       "      <th>Close</th>\n",
       "      <th>Total Trade Quantity</th>\n",
       "      <th>Turnover (Lacs)</th>\n",
       "    </tr>\n",
       "  </thead>\n",
       "  <tbody>\n",
       "    <tr>\n",
       "      <th>0</th>\n",
       "      <td>2010-01-04</td>\n",
       "      <td>1121.0</td>\n",
       "      <td>1151.00</td>\n",
       "      <td>1121.00</td>\n",
       "      <td>1134.0</td>\n",
       "      <td>1135.60</td>\n",
       "      <td>101651.0</td>\n",
       "      <td>1157.18</td>\n",
       "    </tr>\n",
       "    <tr>\n",
       "      <th>1</th>\n",
       "      <td>2010-01-05</td>\n",
       "      <td>1146.8</td>\n",
       "      <td>1149.00</td>\n",
       "      <td>1128.75</td>\n",
       "      <td>1135.0</td>\n",
       "      <td>1134.60</td>\n",
       "      <td>59504.0</td>\n",
       "      <td>676.47</td>\n",
       "    </tr>\n",
       "    <tr>\n",
       "      <th>2</th>\n",
       "      <td>2010-01-06</td>\n",
       "      <td>1140.0</td>\n",
       "      <td>1164.25</td>\n",
       "      <td>1130.05</td>\n",
       "      <td>1137.0</td>\n",
       "      <td>1139.60</td>\n",
       "      <td>128908.0</td>\n",
       "      <td>1482.84</td>\n",
       "    </tr>\n",
       "    <tr>\n",
       "      <th>3</th>\n",
       "      <td>2010-01-07</td>\n",
       "      <td>1142.0</td>\n",
       "      <td>1159.40</td>\n",
       "      <td>1119.20</td>\n",
       "      <td>1141.0</td>\n",
       "      <td>1144.15</td>\n",
       "      <td>117871.0</td>\n",
       "      <td>1352.98</td>\n",
       "    </tr>\n",
       "    <tr>\n",
       "      <th>4</th>\n",
       "      <td>2010-01-08</td>\n",
       "      <td>1156.0</td>\n",
       "      <td>1172.00</td>\n",
       "      <td>1140.00</td>\n",
       "      <td>1141.2</td>\n",
       "      <td>1144.05</td>\n",
       "      <td>170063.0</td>\n",
       "      <td>1971.42</td>\n",
       "    </tr>\n",
       "  </tbody>\n",
       "</table>\n",
       "</div>"
      ],
      "text/plain": [
       "         Date    Open     High      Low    Last    Close  \\\n",
       "0  2010-01-04  1121.0  1151.00  1121.00  1134.0  1135.60   \n",
       "1  2010-01-05  1146.8  1149.00  1128.75  1135.0  1134.60   \n",
       "2  2010-01-06  1140.0  1164.25  1130.05  1137.0  1139.60   \n",
       "3  2010-01-07  1142.0  1159.40  1119.20  1141.0  1144.15   \n",
       "4  2010-01-08  1156.0  1172.00  1140.00  1141.2  1144.05   \n",
       "\n",
       "   Total Trade Quantity  Turnover (Lacs)  \n",
       "0              101651.0          1157.18  \n",
       "1               59504.0           676.47  \n",
       "2              128908.0          1482.84  \n",
       "3              117871.0          1352.98  \n",
       "4              170063.0          1971.42  "
      ]
     },
     "execution_count": 22,
     "metadata": {},
     "output_type": "execute_result"
    }
   ],
   "source": [
    "file_beml = \"C:/Users/admin/Desktop/BEML.csv\"\n",
    "beml=pd.read_csv(file_beml)\n",
    "beml.head()"
   ]
  },
  {
   "cell_type": "code",
   "execution_count": 23,
   "id": "1bdea9aa",
   "metadata": {},
   "outputs": [
    {
     "data": {
      "text/plain": [
       "0            NaN\n",
       "1       0.006660\n",
       "2       0.002470\n",
       "3       0.006083\n",
       "4      -0.002418\n",
       "          ...   \n",
       "1734   -0.019573\n",
       "1735   -0.005474\n",
       "1736   -0.002569\n",
       "1737    0.007726\n",
       "1738    0.000529\n",
       "Name: gain, Length: 1739, dtype: float64"
      ]
     },
     "execution_count": 23,
     "metadata": {},
     "output_type": "execute_result"
    }
   ],
   "source": [
    "#percentage\n",
    "glaxo['gain']=glaxo.High.pct_change(periods=1)\n",
    "beml['gain']=beml.High.pct_change(periods=1)\n",
    "glaxo['gain']"
   ]
  },
  {
   "cell_type": "code",
   "execution_count": 30,
   "id": "76e255e9",
   "metadata": {},
   "outputs": [
    {
     "name": "stdout",
     "output_type": "stream",
     "text": [
      "mean at 95% confidence interval is: [-0.0317  0.0325]\n"
     ]
    }
   ],
   "source": [
    "glaxo_ci =stats.norm.interval(0.95, loc=glaxo.gain.mean(), scale=glaxo.gain.std())\n",
    "print('mean at 95% confidence interval is:', np.round(glaxo_ci, 4))"
   ]
  },
  {
   "cell_type": "code",
   "execution_count": 36,
   "id": "a42b1dad",
   "metadata": {},
   "outputs": [
    {
     "name": "stdout",
     "output_type": "stream",
     "text": [
      "mean at 95% confidence interval is: [-0.0535  0.0541]\n"
     ]
    }
   ],
   "source": [
    "beml_ci =stats.norm.interval(0.95, loc=beml.gain.mean(), scale=beml.gain.std())\n",
    "print('mean at 95% confidence interval is:', np.round(beml_ci, 4))"
   ]
  },
  {
   "cell_type": "code",
   "execution_count": 37,
   "id": "d179dbdb",
   "metadata": {},
   "outputs": [
    {
     "data": {
      "text/plain": [
       "array([1575.88, 2404.12])"
      ]
     },
     "execution_count": 37,
     "metadata": {},
     "output_type": "execute_result"
    }
   ],
   "source": [
    "np.round(stats.norm.interval(0.95, loc=1990, scale=2500/np.sqrt(140)), 2)"
   ]
  },
  {
   "cell_type": "markdown",
   "id": "3e4a8742",
   "metadata": {},
   "source": [
    "1-sample hypothesis testing"
   ]
  },
  {
   "cell_type": "code",
   "execution_count": 76,
   "id": "79787402",
   "metadata": {},
   "outputs": [],
   "source": [
    "#right tail test\n",
    "# Given values\n",
    "x = 130  # Sample mean\n",
    "m = 120  # Population mean\n",
    "s = 40   # Standard deviation\n",
    "\n",
    "# Sample size (you need to provide this)\n",
    "n = 80\n",
    "\n",
    "# Degrees of freedom (for a t-distribution, it's usually n - 1)\n",
    "df = n - 1\n",
    "\n",
    "# Calculate the CDF for a value of 0.95"
   ]
  },
  {
   "cell_type": "code",
   "execution_count": 50,
   "id": "64bfd33a",
   "metadata": {},
   "outputs": [
    {
     "data": {
      "text/plain": [
       "2.23606797749979"
      ]
     },
     "execution_count": 50,
     "metadata": {},
     "output_type": "execute_result"
    }
   ],
   "source": [
    "#caculate t value\n",
    "t1 = (x-m)/(s/np.sqrt(n))\n",
    "t1"
   ]
  },
  {
   "cell_type": "code",
   "execution_count": 51,
   "id": "bb64334f",
   "metadata": {},
   "outputs": [
    {
     "data": {
      "text/plain": [
       "0.014084316277010789"
      ]
     },
     "execution_count": 51,
     "metadata": {},
     "output_type": "execute_result"
    }
   ],
   "source": [
    "p = 1-stats.t.cdf(t1,df)\n",
    "p"
   ]
  },
  {
   "cell_type": "code",
   "execution_count": 54,
   "id": "3ca44eda",
   "metadata": {},
   "outputs": [],
   "source": [
    "#step1: formulate hypothesis\n",
    "#step2: sample mean, s for sample\n",
    "#step3: choose test statistic ( t or z)\n",
    "#step4: caculate test statistic\n",
    "#step5: get value of p\n",
    "#step6: compare p with alpha"
   ]
  },
  {
   "cell_type": "code",
   "execution_count": 65,
   "id": "bba3b439",
   "metadata": {},
   "outputs": [],
   "source": [
    "sample = pd.Series([0.593,0.142,0.329,0.691,0.231,0.793,0.519,0.392,0.418])"
   ]
  },
  {
   "cell_type": "code",
   "execution_count": 57,
   "id": "60befa49",
   "metadata": {},
   "outputs": [
    {
     "data": {
      "text/plain": [
       "0.45644444444444443"
      ]
     },
     "execution_count": 57,
     "metadata": {},
     "output_type": "execute_result"
    }
   ],
   "source": [
    "m = np.mean(sample)\n",
    "m"
   ]
  },
  {
   "cell_type": "code",
   "execution_count": 58,
   "id": "e7c8da3c",
   "metadata": {},
   "outputs": [
    {
     "data": {
      "text/plain": [
       "0.2006711578185737"
      ]
     },
     "execution_count": 58,
     "metadata": {},
     "output_type": "execute_result"
    }
   ],
   "source": [
    "sd = np.std(sample)\n",
    "sd"
   ]
  },
  {
   "cell_type": "code",
   "execution_count": 67,
   "id": "94af4f3e",
   "metadata": {},
   "outputs": [
    {
     "data": {
      "text/plain": [
       "2.338818086441981"
      ]
     },
     "execution_count": 67,
     "metadata": {},
     "output_type": "execute_result"
    }
   ],
   "source": [
    "t2 = (m-0.3)/(sd/np.sqrt(9)) ##0.3 is the alpha & 9 is n\n",
    "t2"
   ]
  },
  {
   "cell_type": "code",
   "execution_count": 70,
   "id": "874203af",
   "metadata": {},
   "outputs": [
    {
     "data": {
      "text/plain": [
       "0.023751626755210364"
      ]
     },
     "execution_count": 70,
     "metadata": {},
     "output_type": "execute_result"
    }
   ],
   "source": [
    "p_value = 1-stats.t.cdf(t2,8) ##8 is df which is n-1\n",
    "p_value"
   ]
  },
  {
   "cell_type": "code",
   "execution_count": 72,
   "id": "63fb35a2",
   "metadata": {},
   "outputs": [
    {
     "name": "stdout",
     "output_type": "stream",
     "text": [
      "Reject the null hypothesis\n"
     ]
    }
   ],
   "source": [
    "if p_value < t2:\n",
    "    print(\"Reject the null hypothesis\")\n",
    "else:\n",
    "    print(\"Fail to reject the null hypothesis\")"
   ]
  },
  {
   "cell_type": "code",
   "execution_count": 59,
   "id": "84031275",
   "metadata": {},
   "outputs": [
    {
     "name": "stdout",
     "output_type": "stream",
     "text": [
      "Sample Mean: 0.45644444444444443\n"
     ]
    }
   ],
   "source": [
    "# Calculate sample mean\n",
    "sample_mean = sum(sample) / len(sample)\n",
    "print(\"Sample Mean:\", sample_mean)"
   ]
  },
  {
   "cell_type": "code",
   "execution_count": 60,
   "id": "5f6fba91",
   "metadata": {},
   "outputs": [
    {
     "name": "stdout",
     "output_type": "stream",
     "text": [
      "Mean: 0.45644444444444443\n",
      "Variance: 0.04026891358024691\n",
      "Standard Deviation: 0.2006711578185737\n"
     ]
    }
   ],
   "source": [
    "# Step 1: Calculate the Mean\n",
    "mean_value = np.mean(sample)\n",
    "\n",
    "# Step 2: Calculate the Squared Differences from the Mean\n",
    "squared_diff = [(x - mean_value) ** 2 for x in sample]\n",
    "\n",
    "# Step 3: Calculate the Variance\n",
    "variance = np.mean(squared_diff)\n",
    "\n",
    "# Step 4: Calculate the Standard Deviation\n",
    "std_dev = np.sqrt(variance)\n",
    "\n",
    "print(\"Mean:\", mean_value)\n",
    "print(\"Variance:\", variance)\n",
    "print(\"Standard Deviation:\", std_dev)"
   ]
  },
  {
   "cell_type": "code",
   "execution_count": 82,
   "id": "f7f76fce",
   "metadata": {},
   "outputs": [
    {
     "data": {
      "text/plain": [
       "1.4142135623730943"
      ]
     },
     "execution_count": 82,
     "metadata": {},
     "output_type": "execute_result"
    }
   ],
   "source": [
    "sm=4.6\n",
    "pm=4\n",
    "sd=3\n",
    "n=50\n",
    "z1=(sm-pm)/(sd/np.sqrt(50))\n",
    "z1"
   ]
  },
  {
   "cell_type": "code",
   "execution_count": 83,
   "id": "38ecaaf9",
   "metadata": {},
   "outputs": [
    {
     "data": {
      "text/plain": [
       "0.15853968290678466"
      ]
     },
     "execution_count": 83,
     "metadata": {},
     "output_type": "execute_result"
    }
   ],
   "source": [
    "p_value=2*(1-stats.norm.cdf(1.41,loc=0,scale=1))\n",
    "p_value"
   ]
  },
  {
   "cell_type": "code",
   "execution_count": 84,
   "id": "30bd0f08",
   "metadata": {},
   "outputs": [
    {
     "name": "stdout",
     "output_type": "stream",
     "text": [
      "Reject the null hypothesis\n"
     ]
    }
   ],
   "source": [
    "if p_value < z1:\n",
    "    print(\"Reject the null hypothesis\")\n",
    "else:\n",
    "    print(\"Fail to reject the null hypothesis\")"
   ]
  },
  {
   "cell_type": "code",
   "execution_count": 85,
   "id": "4e1b72a7",
   "metadata": {},
   "outputs": [
    {
     "data": {
      "text/plain": [
       "-1.6499158227686113"
      ]
     },
     "execution_count": 85,
     "metadata": {},
     "output_type": "execute_result"
    }
   ],
   "source": [
    "sm=3.3\n",
    "pm=4\n",
    "sd=3\n",
    "n=50\n",
    "z1=(sm-pm)/(sd/np.sqrt(50))\n",
    "z1"
   ]
  },
  {
   "cell_type": "code",
   "execution_count": 86,
   "id": "93b52f1b",
   "metadata": {},
   "outputs": [
    {
     "data": {
      "text/plain": [
       "0.10100516694820742"
      ]
     },
     "execution_count": 86,
     "metadata": {},
     "output_type": "execute_result"
    }
   ],
   "source": [
    "p_value=2*(stats.norm.cdf(-1.64,loc=0,scale=1))\n",
    "p_value"
   ]
  },
  {
   "cell_type": "code",
   "execution_count": 87,
   "id": "6d7da54c",
   "metadata": {},
   "outputs": [
    {
     "name": "stdout",
     "output_type": "stream",
     "text": [
      "Fail to reject the null hypothesis\n"
     ]
    }
   ],
   "source": [
    "if p_value < z1:\n",
    "    print(\"Reject the null hypothesis\")\n",
    "else:\n",
    "    print(\"Fail to reject the null hypothesis\")"
   ]
  },
  {
   "cell_type": "markdown",
   "id": "e18e24a6",
   "metadata": {},
   "source": [
    "TWO TAIL TEST"
   ]
  },
  {
   "cell_type": "code",
   "execution_count": 90,
   "id": "69d44902",
   "metadata": {},
   "outputs": [],
   "source": [
    "control=pd.Series([91,87,99,77,88,91])\n",
    "treat=pd.Series([101,110,103,93,99,104])"
   ]
  },
  {
   "cell_type": "code",
   "execution_count": 92,
   "id": "be80de9c",
   "metadata": {},
   "outputs": [
    {
     "name": "stdout",
     "output_type": "stream",
     "text": [
      "88.83333333333333 101.66666666666667 6.542595475463507 5.153208277913436\n"
     ]
    }
   ],
   "source": [
    "m1=np.mean(control)\n",
    "std1=np.std(control)\n",
    "m2=np.mean(treat)\n",
    "std2=np.std(treat)\n",
    "print(m1,m2,std1,std2)"
   ]
  },
  {
   "cell_type": "code",
   "execution_count": 93,
   "id": "428f8944",
   "metadata": {},
   "outputs": [
    {
     "data": {
      "text/plain": [
       "TtestResult(statistic=-3.4456126735364876, pvalue=0.006272124350809803, df=10.0)"
      ]
     },
     "execution_count": 93,
     "metadata": {},
     "output_type": "execute_result"
    }
   ],
   "source": [
    "stats.ttest_ind(control,treat)"
   ]
  },
  {
   "cell_type": "code",
   "execution_count": null,
   "id": "cb5a5f58",
   "metadata": {},
   "outputs": [],
   "source": []
  }
 ],
 "metadata": {
  "kernelspec": {
   "display_name": "Python 3 (ipykernel)",
   "language": "python",
   "name": "python3"
  },
  "language_info": {
   "codemirror_mode": {
    "name": "ipython",
    "version": 3
   },
   "file_extension": ".py",
   "mimetype": "text/x-python",
   "name": "python",
   "nbconvert_exporter": "python",
   "pygments_lexer": "ipython3",
   "version": "3.11.5"
  }
 },
 "nbformat": 4,
 "nbformat_minor": 5
}
