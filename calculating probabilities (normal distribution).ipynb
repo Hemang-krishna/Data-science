{
 "cells": [
  {
   "cell_type": "code",
   "execution_count": 5,
   "id": "5534a4c6",
   "metadata": {},
   "outputs": [
    {
     "data": {
      "text/plain": [
       "0.8413447460685429"
      ]
     },
     "execution_count": 5,
     "metadata": {},
     "output_type": "execute_result"
    }
   ],
   "source": [
    "#Ex: find the probabulity that a normally distributed randam variable has\n",
    "#a mean of 60 and sd of 10 and we want to find the probability that X is less than 70.\n",
    "from scipy import stats\n",
    "stats.norm.cdf(70,loc=60,scale=10) #stats.norm.cdf(x,loc=men,scale=sd)"
   ]
  },
  {
   "cell_type": "code",
   "execution_count": 6,
   "id": "e1d00ccc",
   "metadata": {},
   "outputs": [
    {
     "data": {
      "text/plain": [
       "0.022750131948179195"
      ]
     },
     "execution_count": 6,
     "metadata": {},
     "output_type": "execute_result"
    }
   ],
   "source": [
    "stats.norm.cdf(40,loc=60,scale=10)"
   ]
  },
  {
   "cell_type": "code",
   "execution_count": 7,
   "id": "51c41916",
   "metadata": {},
   "outputs": [],
   "source": [
    "import pandas as pd\n",
    "import numpy as np\n",
    "\n",
    "import warnings #package for not to display any warnings\n",
    "warnings.filterwarnings('ignore')"
   ]
  },
  {
   "cell_type": "code",
   "execution_count": 8,
   "id": "e02ad8e8",
   "metadata": {},
   "outputs": [
    {
     "data": {
      "text/html": [
       "<div>\n",
       "<style scoped>\n",
       "    .dataframe tbody tr th:only-of-type {\n",
       "        vertical-align: middle;\n",
       "    }\n",
       "\n",
       "    .dataframe tbody tr th {\n",
       "        vertical-align: top;\n",
       "    }\n",
       "\n",
       "    .dataframe thead th {\n",
       "        text-align: right;\n",
       "    }\n",
       "</style>\n",
       "<table border=\"1\" class=\"dataframe\">\n",
       "  <thead>\n",
       "    <tr style=\"text-align: right;\">\n",
       "      <th></th>\n",
       "      <th>Date</th>\n",
       "      <th>Open</th>\n",
       "      <th>High</th>\n",
       "      <th>Low</th>\n",
       "      <th>Last</th>\n",
       "      <th>Close</th>\n",
       "      <th>Total Trade Quantity</th>\n",
       "      <th>Turnover (Lacs)</th>\n",
       "    </tr>\n",
       "  </thead>\n",
       "  <tbody>\n",
       "    <tr>\n",
       "      <th>0</th>\n",
       "      <td>2010-01-04</td>\n",
       "      <td>1121.0</td>\n",
       "      <td>1151.00</td>\n",
       "      <td>1121.00</td>\n",
       "      <td>1134.0</td>\n",
       "      <td>1135.60</td>\n",
       "      <td>101651.0</td>\n",
       "      <td>1157.18</td>\n",
       "    </tr>\n",
       "    <tr>\n",
       "      <th>1</th>\n",
       "      <td>2010-01-05</td>\n",
       "      <td>1146.8</td>\n",
       "      <td>1149.00</td>\n",
       "      <td>1128.75</td>\n",
       "      <td>1135.0</td>\n",
       "      <td>1134.60</td>\n",
       "      <td>59504.0</td>\n",
       "      <td>676.47</td>\n",
       "    </tr>\n",
       "    <tr>\n",
       "      <th>2</th>\n",
       "      <td>2010-01-06</td>\n",
       "      <td>1140.0</td>\n",
       "      <td>1164.25</td>\n",
       "      <td>1130.05</td>\n",
       "      <td>1137.0</td>\n",
       "      <td>1139.60</td>\n",
       "      <td>128908.0</td>\n",
       "      <td>1482.84</td>\n",
       "    </tr>\n",
       "    <tr>\n",
       "      <th>3</th>\n",
       "      <td>2010-01-07</td>\n",
       "      <td>1142.0</td>\n",
       "      <td>1159.40</td>\n",
       "      <td>1119.20</td>\n",
       "      <td>1141.0</td>\n",
       "      <td>1144.15</td>\n",
       "      <td>117871.0</td>\n",
       "      <td>1352.98</td>\n",
       "    </tr>\n",
       "    <tr>\n",
       "      <th>4</th>\n",
       "      <td>2010-01-08</td>\n",
       "      <td>1156.0</td>\n",
       "      <td>1172.00</td>\n",
       "      <td>1140.00</td>\n",
       "      <td>1141.2</td>\n",
       "      <td>1144.05</td>\n",
       "      <td>170063.0</td>\n",
       "      <td>1971.42</td>\n",
       "    </tr>\n",
       "  </tbody>\n",
       "</table>\n",
       "</div>"
      ],
      "text/plain": [
       "         Date    Open     High      Low    Last    Close  \\\n",
       "0  2010-01-04  1121.0  1151.00  1121.00  1134.0  1135.60   \n",
       "1  2010-01-05  1146.8  1149.00  1128.75  1135.0  1134.60   \n",
       "2  2010-01-06  1140.0  1164.25  1130.05  1137.0  1139.60   \n",
       "3  2010-01-07  1142.0  1159.40  1119.20  1141.0  1144.15   \n",
       "4  2010-01-08  1156.0  1172.00  1140.00  1141.2  1144.05   \n",
       "\n",
       "   Total Trade Quantity  Turnover (Lacs)  \n",
       "0              101651.0          1157.18  \n",
       "1               59504.0           676.47  \n",
       "2              128908.0          1482.84  \n",
       "3              117871.0          1352.98  \n",
       "4              170063.0          1971.42  "
      ]
     },
     "execution_count": 8,
     "metadata": {},
     "output_type": "execute_result"
    }
   ],
   "source": [
    "file_path = \"C:/Users/admin/Desktop/BEML.csv\"\n",
    "blem = pd.read_csv(file_path)\n",
    "blem.head()"
   ]
  },
  {
   "cell_type": "code",
   "execution_count": 9,
   "id": "5a5dcf33",
   "metadata": {},
   "outputs": [
    {
     "data": {
      "text/html": [
       "<div>\n",
       "<style scoped>\n",
       "    .dataframe tbody tr th:only-of-type {\n",
       "        vertical-align: middle;\n",
       "    }\n",
       "\n",
       "    .dataframe tbody tr th {\n",
       "        vertical-align: top;\n",
       "    }\n",
       "\n",
       "    .dataframe thead th {\n",
       "        text-align: right;\n",
       "    }\n",
       "</style>\n",
       "<table border=\"1\" class=\"dataframe\">\n",
       "  <thead>\n",
       "    <tr style=\"text-align: right;\">\n",
       "      <th></th>\n",
       "      <th>Date</th>\n",
       "      <th>Open</th>\n",
       "      <th>High</th>\n",
       "      <th>Low</th>\n",
       "      <th>Last</th>\n",
       "      <th>Close</th>\n",
       "      <th>Total Trade Quantity</th>\n",
       "      <th>Turnover (Lacs)</th>\n",
       "    </tr>\n",
       "  </thead>\n",
       "  <tbody>\n",
       "    <tr>\n",
       "      <th>0</th>\n",
       "      <td>2010-01-04</td>\n",
       "      <td>1613.00</td>\n",
       "      <td>1629.10</td>\n",
       "      <td>1602.00</td>\n",
       "      <td>1629.0</td>\n",
       "      <td>1625.65</td>\n",
       "      <td>9365.0</td>\n",
       "      <td>151.74</td>\n",
       "    </tr>\n",
       "    <tr>\n",
       "      <th>1</th>\n",
       "      <td>2010-01-05</td>\n",
       "      <td>1639.95</td>\n",
       "      <td>1639.95</td>\n",
       "      <td>1611.05</td>\n",
       "      <td>1620.0</td>\n",
       "      <td>1616.80</td>\n",
       "      <td>38148.0</td>\n",
       "      <td>622.58</td>\n",
       "    </tr>\n",
       "    <tr>\n",
       "      <th>2</th>\n",
       "      <td>2010-01-06</td>\n",
       "      <td>1618.00</td>\n",
       "      <td>1644.00</td>\n",
       "      <td>1617.00</td>\n",
       "      <td>1639.0</td>\n",
       "      <td>1638.50</td>\n",
       "      <td>36519.0</td>\n",
       "      <td>595.09</td>\n",
       "    </tr>\n",
       "    <tr>\n",
       "      <th>3</th>\n",
       "      <td>2010-01-07</td>\n",
       "      <td>1645.00</td>\n",
       "      <td>1654.00</td>\n",
       "      <td>1636.00</td>\n",
       "      <td>1648.0</td>\n",
       "      <td>1648.70</td>\n",
       "      <td>12809.0</td>\n",
       "      <td>211.00</td>\n",
       "    </tr>\n",
       "    <tr>\n",
       "      <th>4</th>\n",
       "      <td>2010-01-08</td>\n",
       "      <td>1650.00</td>\n",
       "      <td>1650.00</td>\n",
       "      <td>1626.55</td>\n",
       "      <td>1640.0</td>\n",
       "      <td>1639.80</td>\n",
       "      <td>28035.0</td>\n",
       "      <td>459.11</td>\n",
       "    </tr>\n",
       "  </tbody>\n",
       "</table>\n",
       "</div>"
      ],
      "text/plain": [
       "         Date     Open     High      Low    Last    Close  \\\n",
       "0  2010-01-04  1613.00  1629.10  1602.00  1629.0  1625.65   \n",
       "1  2010-01-05  1639.95  1639.95  1611.05  1620.0  1616.80   \n",
       "2  2010-01-06  1618.00  1644.00  1617.00  1639.0  1638.50   \n",
       "3  2010-01-07  1645.00  1654.00  1636.00  1648.0  1648.70   \n",
       "4  2010-01-08  1650.00  1650.00  1626.55  1640.0  1639.80   \n",
       "\n",
       "   Total Trade Quantity  Turnover (Lacs)  \n",
       "0                9365.0           151.74  \n",
       "1               38148.0           622.58  \n",
       "2               36519.0           595.09  \n",
       "3               12809.0           211.00  \n",
       "4               28035.0           459.11  "
      ]
     },
     "execution_count": 9,
     "metadata": {},
     "output_type": "execute_result"
    }
   ],
   "source": [
    "file_path = \"C:/Users/admin/Desktop/GLAXO.csv\"\n",
    "glaxo = pd.read_csv(file_path)\n",
    "glaxo.head()"
   ]
  },
  {
   "cell_type": "code",
   "execution_count": 10,
   "id": "ceb653d3",
   "metadata": {},
   "outputs": [],
   "source": [
    "blem = blem[['Date', 'Close']]\n",
    "glaxo = glaxo[['Date', 'Close']]"
   ]
  },
  {
   "cell_type": "code",
   "execution_count": 11,
   "id": "de684d55",
   "metadata": {},
   "outputs": [
    {
     "name": "stdout",
     "output_type": "stream",
     "text": [
      "            Date    Close\n",
      "0     2010-01-04  1135.60\n",
      "1     2010-01-05  1134.60\n",
      "2     2010-01-06  1139.60\n",
      "3     2010-01-07  1144.15\n",
      "4     2010-01-08  1144.05\n",
      "...          ...      ...\n",
      "1734  2016-12-26   950.25\n",
      "1735  2016-12-27   975.70\n",
      "1736  2016-12-28   974.40\n",
      "1737  2016-12-29   986.05\n",
      "1738  2016-12-30  1000.60\n",
      "\n",
      "[1739 rows x 2 columns]\n"
     ]
    }
   ],
   "source": [
    "print(blem)"
   ]
  },
  {
   "cell_type": "code",
   "execution_count": 12,
   "id": "436df796",
   "metadata": {},
   "outputs": [
    {
     "data": {
      "text/html": [
       "<div>\n",
       "<style scoped>\n",
       "    .dataframe tbody tr th:only-of-type {\n",
       "        vertical-align: middle;\n",
       "    }\n",
       "\n",
       "    .dataframe tbody tr th {\n",
       "        vertical-align: top;\n",
       "    }\n",
       "\n",
       "    .dataframe thead th {\n",
       "        text-align: right;\n",
       "    }\n",
       "</style>\n",
       "<table border=\"1\" class=\"dataframe\">\n",
       "  <thead>\n",
       "    <tr style=\"text-align: right;\">\n",
       "      <th></th>\n",
       "      <th>Date</th>\n",
       "      <th>Close</th>\n",
       "    </tr>\n",
       "  </thead>\n",
       "  <tbody>\n",
       "    <tr>\n",
       "      <th>0</th>\n",
       "      <td>2010-01-04</td>\n",
       "      <td>1625.65</td>\n",
       "    </tr>\n",
       "    <tr>\n",
       "      <th>1</th>\n",
       "      <td>2010-01-05</td>\n",
       "      <td>1616.80</td>\n",
       "    </tr>\n",
       "    <tr>\n",
       "      <th>2</th>\n",
       "      <td>2010-01-06</td>\n",
       "      <td>1638.50</td>\n",
       "    </tr>\n",
       "    <tr>\n",
       "      <th>3</th>\n",
       "      <td>2010-01-07</td>\n",
       "      <td>1648.70</td>\n",
       "    </tr>\n",
       "    <tr>\n",
       "      <th>4</th>\n",
       "      <td>2010-01-08</td>\n",
       "      <td>1639.80</td>\n",
       "    </tr>\n",
       "    <tr>\n",
       "      <th>...</th>\n",
       "      <td>...</td>\n",
       "      <td>...</td>\n",
       "    </tr>\n",
       "    <tr>\n",
       "      <th>1734</th>\n",
       "      <td>2016-12-26</td>\n",
       "      <td>2723.50</td>\n",
       "    </tr>\n",
       "    <tr>\n",
       "      <th>1735</th>\n",
       "      <td>2016-12-27</td>\n",
       "      <td>2701.75</td>\n",
       "    </tr>\n",
       "    <tr>\n",
       "      <th>1736</th>\n",
       "      <td>2016-12-28</td>\n",
       "      <td>2702.15</td>\n",
       "    </tr>\n",
       "    <tr>\n",
       "      <th>1737</th>\n",
       "      <td>2016-12-29</td>\n",
       "      <td>2727.90</td>\n",
       "    </tr>\n",
       "    <tr>\n",
       "      <th>1738</th>\n",
       "      <td>2016-12-30</td>\n",
       "      <td>2729.80</td>\n",
       "    </tr>\n",
       "  </tbody>\n",
       "</table>\n",
       "<p>1739 rows × 2 columns</p>\n",
       "</div>"
      ],
      "text/plain": [
       "            Date    Close\n",
       "0     2010-01-04  1625.65\n",
       "1     2010-01-05  1616.80\n",
       "2     2010-01-06  1638.50\n",
       "3     2010-01-07  1648.70\n",
       "4     2010-01-08  1639.80\n",
       "...          ...      ...\n",
       "1734  2016-12-26  2723.50\n",
       "1735  2016-12-27  2701.75\n",
       "1736  2016-12-28  2702.15\n",
       "1737  2016-12-29  2727.90\n",
       "1738  2016-12-30  2729.80\n",
       "\n",
       "[1739 rows x 2 columns]"
      ]
     },
     "execution_count": 12,
     "metadata": {},
     "output_type": "execute_result"
    }
   ],
   "source": [
    "glaxo"
   ]
  },
  {
   "cell_type": "code",
   "execution_count": 13,
   "id": "23d2b9ed",
   "metadata": {},
   "outputs": [
    {
     "data": {
      "text/plain": [
       "Date      object\n",
       "Close    float64\n",
       "dtype: object"
      ]
     },
     "execution_count": 13,
     "metadata": {},
     "output_type": "execute_result"
    }
   ],
   "source": [
    "blem.dtypes"
   ]
  },
  {
   "cell_type": "code",
   "execution_count": 14,
   "id": "0439895c",
   "metadata": {},
   "outputs": [
    {
     "data": {
      "text/plain": [
       "Date      object\n",
       "Close    float64\n",
       "dtype: object"
      ]
     },
     "execution_count": 14,
     "metadata": {},
     "output_type": "execute_result"
    }
   ],
   "source": [
    "glaxo.dtypes"
   ]
  },
  {
   "cell_type": "code",
   "execution_count": 15,
   "id": "1511a82a",
   "metadata": {},
   "outputs": [],
   "source": [
    "## seting date as index\n",
    "#glaxo = glaxo.set_index(pd.DatetimeiIndex(glaxo['Date']))\n",
    "#blem = blem.set_index(pd.DatetimeiIndex(blem['Date']))"
   ]
  },
  {
   "cell_type": "code",
   "execution_count": 16,
   "id": "3b70a9cc",
   "metadata": {},
   "outputs": [
    {
     "data": {
      "text/plain": [
       "Text(0, 0.5, 'Close price')"
      ]
     },
     "execution_count": 16,
     "metadata": {},
     "output_type": "execute_result"
    },
    {
     "data": {
      "image/png": "[encoded data removed]",
      "text/plain": [
       "<Figure size 640x480 with 1 Axes>"
      ]
     },
     "metadata": {},
     "output_type": "display_data"
    }
   ],
   "source": [
    "import matplotlib.pyplot as mplt\n",
    "import seaborn as sn\n",
    "mplt.plot(glaxo.Close) # or glaxo['close']\n",
    "mplt.xlabel('Time')\n",
    "mplt.ylabel('Close price')"
   ]
  },
  {
   "cell_type": "code",
   "execution_count": 17,
   "id": "87594821",
   "metadata": {},
   "outputs": [],
   "source": [
    "# cal gain\n",
    "glaxo['gain'] =glaxo.Close.pct_change(periods=1)\n",
    "blem['gain'] =blem.Close.pct_change(periods=1)"
   ]
  },
  {
   "cell_type": "code",
   "execution_count": 18,
   "id": "934489a1",
   "metadata": {},
   "outputs": [
    {
     "data": {
      "text/html": [
       "<div>\n",
       "<style scoped>\n",
       "    .dataframe tbody tr th:only-of-type {\n",
       "        vertical-align: middle;\n",
       "    }\n",
       "\n",
       "    .dataframe tbody tr th {\n",
       "        vertical-align: top;\n",
       "    }\n",
       "\n",
       "    .dataframe thead th {\n",
       "        text-align: right;\n",
       "    }\n",
       "</style>\n",
       "<table border=\"1\" class=\"dataframe\">\n",
       "  <thead>\n",
       "    <tr style=\"text-align: right;\">\n",
       "      <th></th>\n",
       "      <th>Date</th>\n",
       "      <th>Close</th>\n",
       "      <th>gain</th>\n",
       "    </tr>\n",
       "  </thead>\n",
       "  <tbody>\n",
       "    <tr>\n",
       "      <th>0</th>\n",
       "      <td>2010-01-04</td>\n",
       "      <td>1625.65</td>\n",
       "      <td>NaN</td>\n",
       "    </tr>\n",
       "    <tr>\n",
       "      <th>1</th>\n",
       "      <td>2010-01-05</td>\n",
       "      <td>1616.80</td>\n",
       "      <td>-0.005444</td>\n",
       "    </tr>\n",
       "    <tr>\n",
       "      <th>2</th>\n",
       "      <td>2010-01-06</td>\n",
       "      <td>1638.50</td>\n",
       "      <td>0.013422</td>\n",
       "    </tr>\n",
       "    <tr>\n",
       "      <th>3</th>\n",
       "      <td>2010-01-07</td>\n",
       "      <td>1648.70</td>\n",
       "      <td>0.006225</td>\n",
       "    </tr>\n",
       "    <tr>\n",
       "      <th>4</th>\n",
       "      <td>2010-01-08</td>\n",
       "      <td>1639.80</td>\n",
       "      <td>-0.005398</td>\n",
       "    </tr>\n",
       "    <tr>\n",
       "      <th>...</th>\n",
       "      <td>...</td>\n",
       "      <td>...</td>\n",
       "      <td>...</td>\n",
       "    </tr>\n",
       "    <tr>\n",
       "      <th>1734</th>\n",
       "      <td>2016-12-26</td>\n",
       "      <td>2723.50</td>\n",
       "      <td>-0.001283</td>\n",
       "    </tr>\n",
       "    <tr>\n",
       "      <th>1735</th>\n",
       "      <td>2016-12-27</td>\n",
       "      <td>2701.75</td>\n",
       "      <td>-0.007986</td>\n",
       "    </tr>\n",
       "    <tr>\n",
       "      <th>1736</th>\n",
       "      <td>2016-12-28</td>\n",
       "      <td>2702.15</td>\n",
       "      <td>0.000148</td>\n",
       "    </tr>\n",
       "    <tr>\n",
       "      <th>1737</th>\n",
       "      <td>2016-12-29</td>\n",
       "      <td>2727.90</td>\n",
       "      <td>0.009529</td>\n",
       "    </tr>\n",
       "    <tr>\n",
       "      <th>1738</th>\n",
       "      <td>2016-12-30</td>\n",
       "      <td>2729.80</td>\n",
       "      <td>0.000697</td>\n",
       "    </tr>\n",
       "  </tbody>\n",
       "</table>\n",
       "<p>1739 rows × 3 columns</p>\n",
       "</div>"
      ],
      "text/plain": [
       "            Date    Close      gain\n",
       "0     2010-01-04  1625.65       NaN\n",
       "1     2010-01-05  1616.80 -0.005444\n",
       "2     2010-01-06  1638.50  0.013422\n",
       "3     2010-01-07  1648.70  0.006225\n",
       "4     2010-01-08  1639.80 -0.005398\n",
       "...          ...      ...       ...\n",
       "1734  2016-12-26  2723.50 -0.001283\n",
       "1735  2016-12-27  2701.75 -0.007986\n",
       "1736  2016-12-28  2702.15  0.000148\n",
       "1737  2016-12-29  2727.90  0.009529\n",
       "1738  2016-12-30  2729.80  0.000697\n",
       "\n",
       "[1739 rows x 3 columns]"
      ]
     },
     "execution_count": 18,
     "metadata": {},
     "output_type": "execute_result"
    }
   ],
   "source": [
    "glaxo"
   ]
  },
  {
   "cell_type": "code",
   "execution_count": 19,
   "id": "f9e5e061",
   "metadata": {},
   "outputs": [
    {
     "data": {
      "text/html": [
       "<div>\n",
       "<style scoped>\n",
       "    .dataframe tbody tr th:only-of-type {\n",
       "        vertical-align: middle;\n",
       "    }\n",
       "\n",
       "    .dataframe tbody tr th {\n",
       "        vertical-align: top;\n",
       "    }\n",
       "\n",
       "    .dataframe thead th {\n",
       "        text-align: right;\n",
       "    }\n",
       "</style>\n",
       "<table border=\"1\" class=\"dataframe\">\n",
       "  <thead>\n",
       "    <tr style=\"text-align: right;\">\n",
       "      <th></th>\n",
       "      <th>Date</th>\n",
       "      <th>Close</th>\n",
       "      <th>gain</th>\n",
       "    </tr>\n",
       "  </thead>\n",
       "  <tbody>\n",
       "    <tr>\n",
       "      <th>0</th>\n",
       "      <td>2010-01-04</td>\n",
       "      <td>1135.60</td>\n",
       "      <td>NaN</td>\n",
       "    </tr>\n",
       "    <tr>\n",
       "      <th>1</th>\n",
       "      <td>2010-01-05</td>\n",
       "      <td>1134.60</td>\n",
       "      <td>-0.000881</td>\n",
       "    </tr>\n",
       "    <tr>\n",
       "      <th>2</th>\n",
       "      <td>2010-01-06</td>\n",
       "      <td>1139.60</td>\n",
       "      <td>0.004407</td>\n",
       "    </tr>\n",
       "    <tr>\n",
       "      <th>3</th>\n",
       "      <td>2010-01-07</td>\n",
       "      <td>1144.15</td>\n",
       "      <td>0.003993</td>\n",
       "    </tr>\n",
       "    <tr>\n",
       "      <th>4</th>\n",
       "      <td>2010-01-08</td>\n",
       "      <td>1144.05</td>\n",
       "      <td>-0.000087</td>\n",
       "    </tr>\n",
       "    <tr>\n",
       "      <th>...</th>\n",
       "      <td>...</td>\n",
       "      <td>...</td>\n",
       "      <td>...</td>\n",
       "    </tr>\n",
       "    <tr>\n",
       "      <th>1734</th>\n",
       "      <td>2016-12-26</td>\n",
       "      <td>950.25</td>\n",
       "      <td>-0.021924</td>\n",
       "    </tr>\n",
       "    <tr>\n",
       "      <th>1735</th>\n",
       "      <td>2016-12-27</td>\n",
       "      <td>975.70</td>\n",
       "      <td>0.026782</td>\n",
       "    </tr>\n",
       "    <tr>\n",
       "      <th>1736</th>\n",
       "      <td>2016-12-28</td>\n",
       "      <td>974.40</td>\n",
       "      <td>-0.001332</td>\n",
       "    </tr>\n",
       "    <tr>\n",
       "      <th>1737</th>\n",
       "      <td>2016-12-29</td>\n",
       "      <td>986.05</td>\n",
       "      <td>0.011956</td>\n",
       "    </tr>\n",
       "    <tr>\n",
       "      <th>1738</th>\n",
       "      <td>2016-12-30</td>\n",
       "      <td>1000.60</td>\n",
       "      <td>0.014756</td>\n",
       "    </tr>\n",
       "  </tbody>\n",
       "</table>\n",
       "<p>1739 rows × 3 columns</p>\n",
       "</div>"
      ],
      "text/plain": [
       "            Date    Close      gain\n",
       "0     2010-01-04  1135.60       NaN\n",
       "1     2010-01-05  1134.60 -0.000881\n",
       "2     2010-01-06  1139.60  0.004407\n",
       "3     2010-01-07  1144.15  0.003993\n",
       "4     2010-01-08  1144.05 -0.000087\n",
       "...          ...      ...       ...\n",
       "1734  2016-12-26   950.25 -0.021924\n",
       "1735  2016-12-27   975.70  0.026782\n",
       "1736  2016-12-28   974.40 -0.001332\n",
       "1737  2016-12-29   986.05  0.011956\n",
       "1738  2016-12-30  1000.60  0.014756\n",
       "\n",
       "[1739 rows x 3 columns]"
      ]
     },
     "execution_count": 19,
     "metadata": {},
     "output_type": "execute_result"
    }
   ],
   "source": [
    "blem"
   ]
  },
  {
   "cell_type": "code",
   "execution_count": 20,
   "id": "84054b20",
   "metadata": {},
   "outputs": [],
   "source": [
    "#drop first row since it is NaN\n",
    "glaxo = glaxo.dropna()\n",
    "blem = blem.dropna()"
   ]
  },
  {
   "cell_type": "code",
   "execution_count": 21,
   "id": "29c5d9aa",
   "metadata": {},
   "outputs": [
    {
     "data": {
      "text/html": [
       "<div>\n",
       "<style scoped>\n",
       "    .dataframe tbody tr th:only-of-type {\n",
       "        vertical-align: middle;\n",
       "    }\n",
       "\n",
       "    .dataframe tbody tr th {\n",
       "        vertical-align: top;\n",
       "    }\n",
       "\n",
       "    .dataframe thead th {\n",
       "        text-align: right;\n",
       "    }\n",
       "</style>\n",
       "<table border=\"1\" class=\"dataframe\">\n",
       "  <thead>\n",
       "    <tr style=\"text-align: right;\">\n",
       "      <th></th>\n",
       "      <th>Date</th>\n",
       "      <th>Close</th>\n",
       "      <th>gain</th>\n",
       "    </tr>\n",
       "  </thead>\n",
       "  <tbody>\n",
       "    <tr>\n",
       "      <th>1</th>\n",
       "      <td>2010-01-05</td>\n",
       "      <td>1134.60</td>\n",
       "      <td>-0.000881</td>\n",
       "    </tr>\n",
       "    <tr>\n",
       "      <th>2</th>\n",
       "      <td>2010-01-06</td>\n",
       "      <td>1139.60</td>\n",
       "      <td>0.004407</td>\n",
       "    </tr>\n",
       "    <tr>\n",
       "      <th>3</th>\n",
       "      <td>2010-01-07</td>\n",
       "      <td>1144.15</td>\n",
       "      <td>0.003993</td>\n",
       "    </tr>\n",
       "    <tr>\n",
       "      <th>4</th>\n",
       "      <td>2010-01-08</td>\n",
       "      <td>1144.05</td>\n",
       "      <td>-0.000087</td>\n",
       "    </tr>\n",
       "    <tr>\n",
       "      <th>5</th>\n",
       "      <td>2010-01-11</td>\n",
       "      <td>1137.00</td>\n",
       "      <td>-0.006162</td>\n",
       "    </tr>\n",
       "    <tr>\n",
       "      <th>...</th>\n",
       "      <td>...</td>\n",
       "      <td>...</td>\n",
       "      <td>...</td>\n",
       "    </tr>\n",
       "    <tr>\n",
       "      <th>1734</th>\n",
       "      <td>2016-12-26</td>\n",
       "      <td>950.25</td>\n",
       "      <td>-0.021924</td>\n",
       "    </tr>\n",
       "    <tr>\n",
       "      <th>1735</th>\n",
       "      <td>2016-12-27</td>\n",
       "      <td>975.70</td>\n",
       "      <td>0.026782</td>\n",
       "    </tr>\n",
       "    <tr>\n",
       "      <th>1736</th>\n",
       "      <td>2016-12-28</td>\n",
       "      <td>974.40</td>\n",
       "      <td>-0.001332</td>\n",
       "    </tr>\n",
       "    <tr>\n",
       "      <th>1737</th>\n",
       "      <td>2016-12-29</td>\n",
       "      <td>986.05</td>\n",
       "      <td>0.011956</td>\n",
       "    </tr>\n",
       "    <tr>\n",
       "      <th>1738</th>\n",
       "      <td>2016-12-30</td>\n",
       "      <td>1000.60</td>\n",
       "      <td>0.014756</td>\n",
       "    </tr>\n",
       "  </tbody>\n",
       "</table>\n",
       "<p>1738 rows × 3 columns</p>\n",
       "</div>"
      ],
      "text/plain": [
       "            Date    Close      gain\n",
       "1     2010-01-05  1134.60 -0.000881\n",
       "2     2010-01-06  1139.60  0.004407\n",
       "3     2010-01-07  1144.15  0.003993\n",
       "4     2010-01-08  1144.05 -0.000087\n",
       "5     2010-01-11  1137.00 -0.006162\n",
       "...          ...      ...       ...\n",
       "1734  2016-12-26   950.25 -0.021924\n",
       "1735  2016-12-27   975.70  0.026782\n",
       "1736  2016-12-28   974.40 -0.001332\n",
       "1737  2016-12-29   986.05  0.011956\n",
       "1738  2016-12-30  1000.60  0.014756\n",
       "\n",
       "[1738 rows x 3 columns]"
      ]
     },
     "execution_count": 21,
     "metadata": {},
     "output_type": "execute_result"
    }
   ],
   "source": [
    "blem"
   ]
  },
  {
   "cell_type": "code",
   "execution_count": 22,
   "id": "0c0d364b",
   "metadata": {},
   "outputs": [
    {
     "data": {
      "text/html": [
       "<div>\n",
       "<style scoped>\n",
       "    .dataframe tbody tr th:only-of-type {\n",
       "        vertical-align: middle;\n",
       "    }\n",
       "\n",
       "    .dataframe tbody tr th {\n",
       "        vertical-align: top;\n",
       "    }\n",
       "\n",
       "    .dataframe thead th {\n",
       "        text-align: right;\n",
       "    }\n",
       "</style>\n",
       "<table border=\"1\" class=\"dataframe\">\n",
       "  <thead>\n",
       "    <tr style=\"text-align: right;\">\n",
       "      <th></th>\n",
       "      <th>Date</th>\n",
       "      <th>Close</th>\n",
       "      <th>gain</th>\n",
       "    </tr>\n",
       "  </thead>\n",
       "  <tbody>\n",
       "    <tr>\n",
       "      <th>1</th>\n",
       "      <td>2010-01-05</td>\n",
       "      <td>1616.80</td>\n",
       "      <td>-0.005444</td>\n",
       "    </tr>\n",
       "    <tr>\n",
       "      <th>2</th>\n",
       "      <td>2010-01-06</td>\n",
       "      <td>1638.50</td>\n",
       "      <td>0.013422</td>\n",
       "    </tr>\n",
       "    <tr>\n",
       "      <th>3</th>\n",
       "      <td>2010-01-07</td>\n",
       "      <td>1648.70</td>\n",
       "      <td>0.006225</td>\n",
       "    </tr>\n",
       "    <tr>\n",
       "      <th>4</th>\n",
       "      <td>2010-01-08</td>\n",
       "      <td>1639.80</td>\n",
       "      <td>-0.005398</td>\n",
       "    </tr>\n",
       "    <tr>\n",
       "      <th>5</th>\n",
       "      <td>2010-01-11</td>\n",
       "      <td>1629.45</td>\n",
       "      <td>-0.006312</td>\n",
       "    </tr>\n",
       "    <tr>\n",
       "      <th>...</th>\n",
       "      <td>...</td>\n",
       "      <td>...</td>\n",
       "      <td>...</td>\n",
       "    </tr>\n",
       "    <tr>\n",
       "      <th>1734</th>\n",
       "      <td>2016-12-26</td>\n",
       "      <td>2723.50</td>\n",
       "      <td>-0.001283</td>\n",
       "    </tr>\n",
       "    <tr>\n",
       "      <th>1735</th>\n",
       "      <td>2016-12-27</td>\n",
       "      <td>2701.75</td>\n",
       "      <td>-0.007986</td>\n",
       "    </tr>\n",
       "    <tr>\n",
       "      <th>1736</th>\n",
       "      <td>2016-12-28</td>\n",
       "      <td>2702.15</td>\n",
       "      <td>0.000148</td>\n",
       "    </tr>\n",
       "    <tr>\n",
       "      <th>1737</th>\n",
       "      <td>2016-12-29</td>\n",
       "      <td>2727.90</td>\n",
       "      <td>0.009529</td>\n",
       "    </tr>\n",
       "    <tr>\n",
       "      <th>1738</th>\n",
       "      <td>2016-12-30</td>\n",
       "      <td>2729.80</td>\n",
       "      <td>0.000697</td>\n",
       "    </tr>\n",
       "  </tbody>\n",
       "</table>\n",
       "<p>1738 rows × 3 columns</p>\n",
       "</div>"
      ],
      "text/plain": [
       "            Date    Close      gain\n",
       "1     2010-01-05  1616.80 -0.005444\n",
       "2     2010-01-06  1638.50  0.013422\n",
       "3     2010-01-07  1648.70  0.006225\n",
       "4     2010-01-08  1639.80 -0.005398\n",
       "5     2010-01-11  1629.45 -0.006312\n",
       "...          ...      ...       ...\n",
       "1734  2016-12-26  2723.50 -0.001283\n",
       "1735  2016-12-27  2701.75 -0.007986\n",
       "1736  2016-12-28  2702.15  0.000148\n",
       "1737  2016-12-29  2727.90  0.009529\n",
       "1738  2016-12-30  2729.80  0.000697\n",
       "\n",
       "[1738 rows x 3 columns]"
      ]
     },
     "execution_count": 22,
     "metadata": {},
     "output_type": "execute_result"
    }
   ],
   "source": [
    "glaxo"
   ]
  },
  {
   "cell_type": "code",
   "execution_count": 23,
   "id": "72c4cb21",
   "metadata": {},
   "outputs": [
    {
     "data": {
      "text/plain": [
       "Text(0, 0.5, 'gain')"
      ]
     },
     "execution_count": 23,
     "metadata": {},
     "output_type": "execute_result"
    },
    {
     "data": {
      "image/png": "[encoded data removed]",
      "text/plain": [
       "<Figure size 800x500 with 1 Axes>"
      ]
     },
     "metadata": {},
     "output_type": "display_data"
    }
   ],
   "source": [
    "#plot the gain\n",
    "mplt.figure(figsize =(8, 5))\n",
    "mplt.plot(glaxo.gain)\n",
    "mplt.xlabel('time')\n",
    "mplt.ylabel('gain')"
   ]
  },
  {
   "cell_type": "code",
   "execution_count": 24,
   "id": "4dbf3aa0",
   "metadata": {},
   "outputs": [
    {
     "data": {
      "text/plain": [
       "Text(0, 0.5, 'gain')"
      ]
     },
     "execution_count": 24,
     "metadata": {},
     "output_type": "execute_result"
    },
    {
     "data": {
      "image/png": "[encoded data removed]",
      "text/plain": [
       "<Figure size 800x200 with 1 Axes>"
      ]
     },
     "metadata": {},
     "output_type": "display_data"
    }
   ],
   "source": [
    "mplt.figure(figsize =(8, 2))\n",
    "mplt.plot(blem.gain)\n",
    "mplt.xlabel('time')\n",
    "mplt.ylabel('gain')"
   ]
  },
  {
   "cell_type": "code",
   "execution_count": 25,
   "id": "b1a7395b",
   "metadata": {},
   "outputs": [
    {
     "data": {
      "text/plain": [
       "Text(0, 0.5, 'density')"
      ]
     },
     "execution_count": 25,
     "metadata": {},
     "output_type": "execute_result"
    },
    {
     "data": {
      "image/png": "[encoded data removed]",
      "text/plain": [
       "<Figure size 640x480 with 1 Axes>"
      ]
     },
     "metadata": {},
     "output_type": "display_data"
    }
   ],
   "source": [
    "#distribution plot and multi plots\n",
    "#mplt.figure(figsize=(8,5))\n",
    "mplt.subplot(1,2,1)\n",
    "mplt.suptitle('Distribution', fontsize=15)\n",
    "\n",
    "sn.distplot(glaxo.gain, label='glaxo')\n",
    "\n",
    "mplt.xlabel('gain')\n",
    "mplt.ylabel('density')\n",
    "\n",
    "mplt.subplot(1,2,1)\n",
    "sn.distplot(blem.gain, label='beml')\n",
    "\n",
    "mplt.xlabel('gain')\n",
    "mplt.ylabel('density')"
   ]
  },
  {
   "cell_type": "code",
   "execution_count": 26,
   "id": "d1153c34",
   "metadata": {},
   "outputs": [
    {
     "data": {
      "text/plain": [
       "Text(0, 0.5, 'density')"
      ]
     },
     "execution_count": 26,
     "metadata": {},
     "output_type": "execute_result"
    },
    {
     "data": {
      "image/png": "[encoded data removed]",
      "text/plain": [
       "<Figure size 640x480 with 1 Axes>"
      ]
     },
     "metadata": {},
     "output_type": "display_data"
    }
   ],
   "source": [
    "mplt.suptitle('Distribution', fontsize=15)\n",
    "sn.distplot(blem.gain, label='beml')\n",
    "\n",
    "mplt.xlabel('gain')\n",
    "mplt.ylabel('density')"
   ]
  },
  {
   "cell_type": "code",
   "execution_count": 27,
   "id": "a021429e",
   "metadata": {},
   "outputs": [
    {
     "name": "stdout",
     "output_type": "stream",
     "text": [
      "mean: 0.0004\n",
      "sd: 0 4\n"
     ]
    }
   ],
   "source": [
    "print('mean:' , round(glaxo.gain.mean(), 4))\n",
    "print('sd:', round(glaxo.gain.std()), 4)"
   ]
  },
  {
   "cell_type": "code",
   "execution_count": 28,
   "id": "ead2766c",
   "metadata": {},
   "outputs": [
    {
     "name": "stdout",
     "output_type": "stream",
     "text": [
      "mean: 0.0003\n",
      "sd: 0 4\n"
     ]
    }
   ],
   "source": [
    "print('mean:' , round(blem.gain.mean(), 4))\n",
    "print('sd:', round(blem.gain.std()), 4)"
   ]
  },
  {
   "cell_type": "code",
   "execution_count": 43,
   "id": "6a51c096",
   "metadata": {},
   "outputs": [
    {
     "data": {
      "text/plain": [
       "0.03664305497347292"
      ]
     },
     "execution_count": 43,
     "metadata": {},
     "output_type": "execute_result"
    }
   ],
   "source": [
    "from scipy import stats \n",
    "#import scipy\n",
    "#scipy.stats.norm.cdf function to calculate the cumulative distribution function for a normal distribution.\n",
    "stats.norm.cdf(-0.02, 0.004, 0.0134)\n",
    "#The first argument -0.02 is the value (loss) for which you want to calculate the probability.\n",
    "#The second argument 0.004 is the mean (loc) of the distribution.\n",
    "#The third argument 0.0134 is the standard deviation (scale) of the distribution.\n",
    "#result: probability of observing a loss of 2% or higher in the given normal distribution."
   ]
  },
  {
   "cell_type": "code",
   "execution_count": 44,
   "id": "02c658f5",
   "metadata": {},
   "outputs": [
    {
     "data": {
      "text/plain": [
       "0.9633569450265271"
      ]
     },
     "execution_count": 44,
     "metadata": {},
     "output_type": "execute_result"
    }
   ],
   "source": [
    "#probability of making 2% gain or higher in glaxo - to the right of 0.02\n",
    "1 - stats.norm.cdf(-0.02, 0.004, 0.0134) # 7% chances of having at least 2% or higher gain, glaxo seems safer then bemil"
   ]
  },
  {
   "cell_type": "markdown",
   "id": "0483acbe",
   "metadata": {},
   "source": [
    "compute 2% loss or gain for beml"
   ]
  },
  {
   "cell_type": "code",
   "execution_count": 45,
   "id": "1761a9bc",
   "metadata": {},
   "outputs": [
    {
     "data": {
      "text/plain": [
       "0.0002707480790572326"
      ]
     },
     "execution_count": 45,
     "metadata": {},
     "output_type": "execute_result"
    }
   ],
   "source": [
    "stats.norm.cdf(-0.02, 0.004, 0.0134)\n",
    "loc=blem.gain.mean()\n",
    "scale = blem.gain.std() #there are 6% of chances of having 2% or higher loss\n",
    "loc"
   ]
  },
  {
   "cell_type": "code",
   "execution_count": 46,
   "id": "b5cb5c03",
   "metadata": {},
   "outputs": [
    {
     "data": {
      "text/plain": [
       "0.02643083146847487"
      ]
     },
     "execution_count": 46,
     "metadata": {},
     "output_type": "execute_result"
    }
   ],
   "source": [
    "scale"
   ]
  },
  {
   "cell_type": "code",
   "execution_count": 47,
   "id": "e26cff05",
   "metadata": {},
   "outputs": [
    {
     "data": {
      "text/plain": [
       "0.0002707480790572326"
      ]
     },
     "execution_count": 47,
     "metadata": {},
     "output_type": "execute_result"
    }
   ],
   "source": [
    "#probability of making 2% gain or higher in beml\n",
    "1 - stats.norm.cdf(-0.02, 0.004, 0.0134)\n",
    "blem.gain.mean()"
   ]
  },
  {
   "cell_type": "code",
   "execution_count": 48,
   "id": "b78db6ea",
   "metadata": {},
   "outputs": [
    {
     "data": {
      "text/plain": [
       "0.02643083146847487"
      ]
     },
     "execution_count": 48,
     "metadata": {},
     "output_type": "execute_result"
    }
   ],
   "source": [
    "blem.gain.std()"
   ]
  },
  {
   "cell_type": "code",
   "execution_count": 49,
   "id": "00a25c06",
   "metadata": {},
   "outputs": [
    {
     "name": "stdout",
     "output_type": "stream",
     "text": [
      "2.7906139731461963e-05\n"
     ]
    }
   ],
   "source": [
    "# Parameters for the normal distribution\n",
    "mean = 0.004\n",
    "std_dev = 0.0134\n",
    "\n",
    "# Loss value (5%)\n",
    "loss_value = -0.05\n",
    "\n",
    "# Calculate the probability of observing a loss of 5% or higher\n",
    "probability = stats.norm.cdf(loss_value, mean, std_dev)\n",
    "\n",
    "# Print the result\n",
    "print(probability)"
   ]
  },
  {
   "cell_type": "code",
   "execution_count": null,
   "id": "ab42c16d",
   "metadata": {},
   "outputs": [],
   "source": []
  }
 ],
 "metadata": {
  "kernelspec": {
   "display_name": "Python 3 (ipykernel)",
   "language": "python",
   "name": "python3"
  },
  "language_info": {
   "codemirror_mode": {
    "name": "ipython",
    "version": 3
   },
   "file_extension": ".py",
   "mimetype": "text/x-python",
   "name": "python",
   "nbconvert_exporter": "python",
   "pygments_lexer": "ipython3",
   "version": "3.11.5"
  }
 },
 "nbformat": 4,
 "nbformat_minor": 5
}
